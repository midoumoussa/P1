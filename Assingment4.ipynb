{
  "cells": [
    {
      "cell_type": "markdown",
      "metadata": {
        "id": "7LOl4Gc4rOjd"
      },
      "source": [
        "## <font color=blue> Problem Statement</font>\n",
        "## Consider fashion mnist data available on keras datasets.\n",
        "\n",
        "This is a dataset of 60,000 28x28 grayscale images of 10 fashion categories, along with a test set of 10,000 images.Design a CNN model which can classify the test set with good accuracy.Link for the data is attached\n",
        "Note:You need to use hyper parameter tuning  for better result.\n",
        "Evaluate your model on classification report."
      ]
    },
    {
      "cell_type": "markdown",
      "metadata": {
        "id": "J1--4RJCcsoF"
      },
      "source": [
        "### Liabraries"
      ]
    },
    {
      "cell_type": "code",
      "execution_count": null,
      "metadata": {
        "id": "O5ovZTPZBDBM"
      },
      "outputs": [],
      "source": [
        "import matplotlib.pyplot as plt\n",
        "import pandas as pd\n",
        "import numpy as np\n",
        "import tensorflow as tf\n",
        "import seaborn as sns\n",
        "from tensorflow import keras\n",
        "from tensorflow.keras import Sequential\n",
        "from tensorflow.keras import layers\n",
        "from tensorflow.keras.layers import Dense,Dropout,Flatten\n",
        "from sklearn.metrics import classification_report, confusion_matrix, roc_auc_score, roc_curve,accuracy_score"
      ]
    },
    {
      "cell_type": "code",
      "source": [
        "pip install keras_tuner\n"
      ],
      "metadata": {
        "colab": {
          "base_uri": "https://localhost:8080/"
        },
        "id": "vuKq03OKtLsI",
        "outputId": "9a7a0ce0-c11f-45e8-f02a-c53018c04810"
      },
      "execution_count": null,
      "outputs": [
        {
          "output_type": "stream",
          "name": "stdout",
          "text": [
            "Looking in indexes: https://pypi.org/simple, https://us-python.pkg.dev/colab-wheels/public/simple/\n",
            "Collecting keras_tuner\n",
            "  Downloading keras_tuner-1.1.3-py3-none-any.whl (135 kB)\n",
            "\u001b[2K     \u001b[90m━━━━━━━━━━━━━━━━━━━━━━━━━━━━━━━━━━━━━━\u001b[0m \u001b[32m135.7/135.7 KB\u001b[0m \u001b[31m13.2 MB/s\u001b[0m eta \u001b[36m0:00:00\u001b[0m\n",
            "\u001b[?25hRequirement already satisfied: packaging in /usr/local/lib/python3.8/dist-packages (from keras_tuner) (21.3)\n",
            "Requirement already satisfied: tensorboard in /usr/local/lib/python3.8/dist-packages (from keras_tuner) (2.9.1)\n",
            "Requirement already satisfied: ipython in /usr/local/lib/python3.8/dist-packages (from keras_tuner) (7.9.0)\n",
            "Requirement already satisfied: numpy in /usr/local/lib/python3.8/dist-packages (from keras_tuner) (1.21.6)\n",
            "Collecting kt-legacy\n",
            "  Downloading kt_legacy-1.0.4-py3-none-any.whl (9.6 kB)\n",
            "Requirement already satisfied: requests in /usr/local/lib/python3.8/dist-packages (from keras_tuner) (2.25.1)\n",
            "Requirement already satisfied: pexpect in /usr/local/lib/python3.8/dist-packages (from ipython->keras_tuner) (4.8.0)\n",
            "Requirement already satisfied: decorator in /usr/local/lib/python3.8/dist-packages (from ipython->keras_tuner) (4.4.2)\n",
            "Requirement already satisfied: pickleshare in /usr/local/lib/python3.8/dist-packages (from ipython->keras_tuner) (0.7.5)\n",
            "Requirement already satisfied: pygments in /usr/local/lib/python3.8/dist-packages (from ipython->keras_tuner) (2.6.1)\n",
            "Requirement already satisfied: setuptools>=18.5 in /usr/local/lib/python3.8/dist-packages (from ipython->keras_tuner) (57.4.0)\n",
            "Requirement already satisfied: backcall in /usr/local/lib/python3.8/dist-packages (from ipython->keras_tuner) (0.2.0)\n",
            "Collecting jedi>=0.10\n",
            "  Downloading jedi-0.18.2-py2.py3-none-any.whl (1.6 MB)\n",
            "\u001b[2K     \u001b[90m━━━━━━━━━━━━━━━━━━━━━━━━━━━━━━━━━━━━━━━━\u001b[0m \u001b[32m1.6/1.6 MB\u001b[0m \u001b[31m78.3 MB/s\u001b[0m eta \u001b[36m0:00:00\u001b[0m\n",
            "\u001b[?25hRequirement already satisfied: prompt-toolkit<2.1.0,>=2.0.0 in /usr/local/lib/python3.8/dist-packages (from ipython->keras_tuner) (2.0.10)\n",
            "Requirement already satisfied: traitlets>=4.2 in /usr/local/lib/python3.8/dist-packages (from ipython->keras_tuner) (5.7.1)\n",
            "Requirement already satisfied: pyparsing!=3.0.5,>=2.0.2 in /usr/local/lib/python3.8/dist-packages (from packaging->keras_tuner) (3.0.9)\n",
            "Requirement already satisfied: chardet<5,>=3.0.2 in /usr/local/lib/python3.8/dist-packages (from requests->keras_tuner) (4.0.0)\n",
            "Requirement already satisfied: idna<3,>=2.5 in /usr/local/lib/python3.8/dist-packages (from requests->keras_tuner) (2.10)\n",
            "Requirement already satisfied: certifi>=2017.4.17 in /usr/local/lib/python3.8/dist-packages (from requests->keras_tuner) (2022.12.7)\n",
            "Requirement already satisfied: urllib3<1.27,>=1.21.1 in /usr/local/lib/python3.8/dist-packages (from requests->keras_tuner) (1.24.3)\n",
            "Requirement already satisfied: wheel>=0.26 in /usr/local/lib/python3.8/dist-packages (from tensorboard->keras_tuner) (0.38.4)\n",
            "Requirement already satisfied: absl-py>=0.4 in /usr/local/lib/python3.8/dist-packages (from tensorboard->keras_tuner) (1.3.0)\n",
            "Requirement already satisfied: grpcio>=1.24.3 in /usr/local/lib/python3.8/dist-packages (from tensorboard->keras_tuner) (1.51.1)\n",
            "Requirement already satisfied: protobuf<3.20,>=3.9.2 in /usr/local/lib/python3.8/dist-packages (from tensorboard->keras_tuner) (3.19.6)\n",
            "Requirement already satisfied: tensorboard-data-server<0.7.0,>=0.6.0 in /usr/local/lib/python3.8/dist-packages (from tensorboard->keras_tuner) (0.6.1)\n",
            "Requirement already satisfied: google-auth-oauthlib<0.5,>=0.4.1 in /usr/local/lib/python3.8/dist-packages (from tensorboard->keras_tuner) (0.4.6)\n",
            "Requirement already satisfied: google-auth<3,>=1.6.3 in /usr/local/lib/python3.8/dist-packages (from tensorboard->keras_tuner) (2.15.0)\n",
            "Requirement already satisfied: tensorboard-plugin-wit>=1.6.0 in /usr/local/lib/python3.8/dist-packages (from tensorboard->keras_tuner) (1.8.1)\n",
            "Requirement already satisfied: markdown>=2.6.8 in /usr/local/lib/python3.8/dist-packages (from tensorboard->keras_tuner) (3.4.1)\n",
            "Requirement already satisfied: werkzeug>=1.0.1 in /usr/local/lib/python3.8/dist-packages (from tensorboard->keras_tuner) (1.0.1)\n",
            "Requirement already satisfied: pyasn1-modules>=0.2.1 in /usr/local/lib/python3.8/dist-packages (from google-auth<3,>=1.6.3->tensorboard->keras_tuner) (0.2.8)\n",
            "Requirement already satisfied: rsa<5,>=3.1.4 in /usr/local/lib/python3.8/dist-packages (from google-auth<3,>=1.6.3->tensorboard->keras_tuner) (4.9)\n",
            "Requirement already satisfied: cachetools<6.0,>=2.0.0 in /usr/local/lib/python3.8/dist-packages (from google-auth<3,>=1.6.3->tensorboard->keras_tuner) (5.2.0)\n",
            "Requirement already satisfied: six>=1.9.0 in /usr/local/lib/python3.8/dist-packages (from google-auth<3,>=1.6.3->tensorboard->keras_tuner) (1.15.0)\n",
            "Requirement already satisfied: requests-oauthlib>=0.7.0 in /usr/local/lib/python3.8/dist-packages (from google-auth-oauthlib<0.5,>=0.4.1->tensorboard->keras_tuner) (1.3.1)\n",
            "Requirement already satisfied: parso<0.9.0,>=0.8.0 in /usr/local/lib/python3.8/dist-packages (from jedi>=0.10->ipython->keras_tuner) (0.8.3)\n",
            "Requirement already satisfied: importlib-metadata>=4.4 in /usr/local/lib/python3.8/dist-packages (from markdown>=2.6.8->tensorboard->keras_tuner) (6.0.0)\n",
            "Requirement already satisfied: wcwidth in /usr/local/lib/python3.8/dist-packages (from prompt-toolkit<2.1.0,>=2.0.0->ipython->keras_tuner) (0.2.5)\n",
            "Requirement already satisfied: ptyprocess>=0.5 in /usr/local/lib/python3.8/dist-packages (from pexpect->ipython->keras_tuner) (0.7.0)\n",
            "Requirement already satisfied: zipp>=0.5 in /usr/local/lib/python3.8/dist-packages (from importlib-metadata>=4.4->markdown>=2.6.8->tensorboard->keras_tuner) (3.11.0)\n",
            "Requirement already satisfied: pyasn1<0.5.0,>=0.4.6 in /usr/local/lib/python3.8/dist-packages (from pyasn1-modules>=0.2.1->google-auth<3,>=1.6.3->tensorboard->keras_tuner) (0.4.8)\n",
            "Requirement already satisfied: oauthlib>=3.0.0 in /usr/local/lib/python3.8/dist-packages (from requests-oauthlib>=0.7.0->google-auth-oauthlib<0.5,>=0.4.1->tensorboard->keras_tuner) (3.2.2)\n",
            "Installing collected packages: kt-legacy, jedi, keras_tuner\n",
            "Successfully installed jedi-0.18.2 keras_tuner-1.1.3 kt-legacy-1.0.4\n"
          ]
        }
      ]
    },
    {
      "cell_type": "code",
      "execution_count": null,
      "metadata": {
        "colab": {
          "base_uri": "https://localhost:8080/"
        },
        "id": "j635zVOpBY61",
        "outputId": "4abb2475-588b-4191-bee6-6b4adc910a00"
      },
      "outputs": [
        {
          "output_type": "execute_result",
          "data": {
            "text/plain": [
              "[LogicalDevice(name='/device:CPU:0', device_type='CPU'),\n",
              " LogicalDevice(name='/device:GPU:0', device_type='GPU')]"
            ]
          },
          "metadata": {},
          "execution_count": 3
        }
      ],
      "source": [
        "tf.config.experimental.list_logical_devices()"
      ]
    },
    {
      "cell_type": "code",
      "execution_count": null,
      "metadata": {
        "id": "wVgQtNovDBNR",
        "colab": {
          "base_uri": "https://localhost:8080/"
        },
        "outputId": "768b37f1-2392-4228-9ea9-12a1ab79cc8d"
      },
      "outputs": [
        {
          "output_type": "stream",
          "name": "stdout",
          "text": [
            "Downloading data from https://storage.googleapis.com/tensorflow/tf-keras-datasets/train-labels-idx1-ubyte.gz\n",
            "29515/29515 [==============================] - 0s 0us/step\n",
            "Downloading data from https://storage.googleapis.com/tensorflow/tf-keras-datasets/train-images-idx3-ubyte.gz\n",
            "26421880/26421880 [==============================] - 2s 0us/step\n",
            "Downloading data from https://storage.googleapis.com/tensorflow/tf-keras-datasets/t10k-labels-idx1-ubyte.gz\n",
            "5148/5148 [==============================] - 0s 0us/step\n",
            "Downloading data from https://storage.googleapis.com/tensorflow/tf-keras-datasets/t10k-images-idx3-ubyte.gz\n",
            "4422102/4422102 [==============================] - 0s 0us/step\n"
          ]
        }
      ],
      "source": [
        "(x_train,y_train),(x_test,y_test) = tf.keras.datasets.fashion_mnist.load_data()"
      ]
    },
    {
      "cell_type": "code",
      "execution_count": null,
      "metadata": {
        "colab": {
          "base_uri": "https://localhost:8080/"
        },
        "id": "n5o9F21tDY8m",
        "outputId": "5dcc2b90-5f5b-44e5-9ce7-9c6230c6f52a"
      },
      "outputs": [
        {
          "output_type": "execute_result",
          "data": {
            "text/plain": [
              "((60000, 28, 28), (60000,))"
            ]
          },
          "metadata": {},
          "execution_count": 5
        }
      ],
      "source": [
        "x_train.shape, y_train.shape"
      ]
    },
    {
      "cell_type": "markdown",
      "metadata": {
        "id": "SHTOZ75h-yWA"
      },
      "source": [
        "# classes :\n",
        "![image.png](data:image/png;base64,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)"
      ]
    },
    {
      "cell_type": "code",
      "execution_count": null,
      "metadata": {
        "colab": {
          "base_uri": "https://localhost:8080/"
        },
        "id": "UUTuKVXiDcGB",
        "outputId": "120e9fe6-e66b-45e0-f775-15829620a742"
      },
      "outputs": [
        {
          "output_type": "execute_result",
          "data": {
            "text/plain": [
              "((10000, 28, 28), (10000,))"
            ]
          },
          "metadata": {},
          "execution_count": 6
        }
      ],
      "source": [
        "x_test.shape,y_test.shape"
      ]
    },
    {
      "cell_type": "code",
      "execution_count": null,
      "metadata": {
        "colab": {
          "base_uri": "https://localhost:8080/",
          "height": 282
        },
        "id": "yhOh9Q5WDsa3",
        "outputId": "d5bc72a0-81b5-43a5-c74a-48bf4fbfc4f3"
      },
      "outputs": [
        {
          "output_type": "execute_result",
          "data": {
            "text/plain": [
              "<matplotlib.image.AxesImage at 0x7f0b0c64e880>"
            ]
          },
          "metadata": {},
          "execution_count": 7
        },
        {
          "output_type": "display_data",
          "data": {
            "text/plain": [
              "<Figure size 432x288 with 1 Axes>"
            ],
            "image/png": "[encoded data removed]"
          },
          "metadata": {
            "needs_background": "light"
          }
        }
      ],
      "source": [
        "plt.imshow(x_train[1])"
      ]
    },
    {
      "cell_type": "code",
      "execution_count": null,
      "metadata": {
        "id": "Wbaj_AXfD63P"
      },
      "outputs": [],
      "source": [
        "y_series = pd.Series(y_train)"
      ]
    },
    {
      "cell_type": "code",
      "execution_count": null,
      "metadata": {
        "id": "hKYcjBdhETSV"
      },
      "outputs": [],
      "source": [
        "classes = list(y_series.unique())"
      ]
    },
    {
      "cell_type": "code",
      "execution_count": null,
      "metadata": {
        "colab": {
          "base_uri": "https://localhost:8080/"
        },
        "id": "8vnLDZ3HKvkb",
        "outputId": "e076f90a-ed86-4047-8b8c-72f940b48ed9"
      },
      "outputs": [
        {
          "output_type": "execute_result",
          "data": {
            "text/plain": [
              "[9, 0, 3, 2, 7, 5, 1, 6, 4, 8]"
            ]
          },
          "metadata": {},
          "execution_count": 10
        }
      ],
      "source": [
        "classes"
      ]
    },
    {
      "cell_type": "code",
      "execution_count": null,
      "metadata": {
        "id": "8SRz1uZhN8h6"
      },
      "outputs": [],
      "source": [
        "classes = [\"T-shirt/top\",\"Trouser\",\"Pullover\",\"Dress\",\"Coat\",\"Sandal\",\"Shirt\",\"Sneaker\",\"Bag\",\"Ankle boot\"]"
      ]
    },
    {
      "cell_type": "code",
      "execution_count": null,
      "metadata": {
        "colab": {
          "base_uri": "https://localhost:8080/",
          "height": 35
        },
        "id": "bIcx5DVNCS88",
        "outputId": "ceee29b8-3bb7-4b2f-e275-97bd66447dca"
      },
      "outputs": [
        {
          "output_type": "execute_result",
          "data": {
            "text/plain": [
              "'Ankle boot'"
            ],
            "application/vnd.google.colaboratory.intrinsic+json": {
              "type": "string"
            }
          },
          "metadata": {},
          "execution_count": 12
        }
      ],
      "source": [
        "classes[y_train[0]]"
      ]
    },
    {
      "cell_type": "code",
      "execution_count": null,
      "metadata": {
        "colab": {
          "base_uri": "https://localhost:8080/"
        },
        "id": "_uEHoh-6vekf",
        "outputId": "d6439fe0-783e-4079-ac54-c587546875ac"
      },
      "outputs": [
        {
          "output_type": "execute_result",
          "data": {
            "text/plain": [
              "(28, 28)"
            ]
          },
          "metadata": {},
          "execution_count": 13
        }
      ],
      "source": [
        "x_train[0].shape"
      ]
    },
    {
      "cell_type": "code",
      "execution_count": null,
      "metadata": {
        "colab": {
          "base_uri": "https://localhost:8080/"
        },
        "id": "P6jhb50PvwjM",
        "outputId": "94312214-5621-4d05-d9c0-ce397a566fbe"
      },
      "outputs": [
        {
          "output_type": "execute_result",
          "data": {
            "text/plain": [
              "9"
            ]
          },
          "metadata": {},
          "execution_count": 14
        }
      ],
      "source": [
        "y_train[0]"
      ]
    },
    {
      "cell_type": "code",
      "execution_count": null,
      "metadata": {
        "colab": {
          "base_uri": "https://localhost:8080/"
        },
        "id": "yd4-DtXTx8aK",
        "outputId": "b8eabd32-ea7e-43f1-8b16-d3d4c37c833d"
      },
      "outputs": [
        {
          "output_type": "execute_result",
          "data": {
            "text/plain": [
              "(60000, 28, 28)"
            ]
          },
          "metadata": {},
          "execution_count": 15
        }
      ],
      "source": [
        "x_train.shape"
      ]
    },
    {
      "cell_type": "code",
      "execution_count": null,
      "metadata": {
        "id": "PcX_ZfBEtuL4"
      },
      "outputs": [],
      "source": [
        "x_train_scaled = x_train/ 255\n",
        "x_test_scaled = x_test / 255"
      ]
    },
    {
      "cell_type": "code",
      "execution_count": null,
      "metadata": {
        "colab": {
          "base_uri": "https://localhost:8080/"
        },
        "id": "okZY7KPO3hsd",
        "outputId": "38a3ffc5-fadf-4e61-8416-5c5a71d78ae3"
      },
      "outputs": [
        {
          "output_type": "execute_result",
          "data": {
            "text/plain": [
              "(60000, 28, 28)"
            ]
          },
          "metadata": {},
          "execution_count": 17
        }
      ],
      "source": [
        "x_train_scaled.shape"
      ]
    },
    {
      "cell_type": "markdown",
      "source": [
        "### creating our first basic CNN model"
      ],
      "metadata": {
        "id": "mc7wZ1y7S7qQ"
      }
    },
    {
      "cell_type": "code",
      "execution_count": null,
      "metadata": {
        "colab": {
          "base_uri": "https://localhost:8080/"
        },
        "id": "cDZubSkqrOkZ",
        "outputId": "35c851ee-7c37-46c8-f683-22c0427637f2"
      },
      "outputs": [
        {
          "output_type": "stream",
          "name": "stdout",
          "text": [
            "Epoch 1/10\n"
          ]
        },
        {
          "output_type": "stream",
          "name": "stderr",
          "text": [
            "/usr/local/lib/python3.8/dist-packages/tensorflow/python/util/dispatch.py:1082: UserWarning: \"`sparse_categorical_crossentropy` received `from_logits=True`, but the `output` argument was produced by a sigmoid or softmax activation and thus does not represent logits. Was this intended?\"\n",
            "  return dispatch_target(*args, **kwargs)\n"
          ]
        },
        {
          "output_type": "stream",
          "name": "stdout",
          "text": [
            "1875/1875 [==============================] - 18s 5ms/step - loss: 0.4548 - accuracy: 0.8351 - val_loss: 0.3471 - val_accuracy: 0.8755\n",
            "Epoch 2/10\n",
            "1875/1875 [==============================] - 11s 6ms/step - loss: 0.3069 - accuracy: 0.8875 - val_loss: 0.2756 - val_accuracy: 0.8994\n",
            "Epoch 3/10\n",
            "1875/1875 [==============================] - 8s 4ms/step - loss: 0.2651 - accuracy: 0.9023 - val_loss: 0.2794 - val_accuracy: 0.8956\n",
            "Epoch 4/10\n",
            "1875/1875 [==============================] - 6s 3ms/step - loss: 0.2351 - accuracy: 0.9137 - val_loss: 0.2539 - val_accuracy: 0.9070\n",
            "Epoch 5/10\n",
            "1875/1875 [==============================] - 6s 3ms/step - loss: 0.2151 - accuracy: 0.9185 - val_loss: 0.2397 - val_accuracy: 0.9145\n",
            "Epoch 6/10\n",
            "1875/1875 [==============================] - 6s 3ms/step - loss: 0.1983 - accuracy: 0.9258 - val_loss: 0.2329 - val_accuracy: 0.9116\n",
            "Epoch 7/10\n",
            "1875/1875 [==============================] - 6s 3ms/step - loss: 0.1812 - accuracy: 0.9321 - val_loss: 0.2320 - val_accuracy: 0.9136\n",
            "Epoch 8/10\n",
            "1875/1875 [==============================] - 6s 3ms/step - loss: 0.1704 - accuracy: 0.9361 - val_loss: 0.2357 - val_accuracy: 0.9156\n",
            "Epoch 9/10\n",
            "1875/1875 [==============================] - 6s 3ms/step - loss: 0.1583 - accuracy: 0.9414 - val_loss: 0.2312 - val_accuracy: 0.9188\n",
            "Epoch 10/10\n",
            "1875/1875 [==============================] - 6s 3ms/step - loss: 0.1458 - accuracy: 0.9456 - val_loss: 0.2382 - val_accuracy: 0.9214\n"
          ]
        },
        {
          "output_type": "execute_result",
          "data": {
            "text/plain": [
              "<keras.callbacks.History at 0x7f0af6f89610>"
            ]
          },
          "metadata": {},
          "execution_count": 18
        }
      ],
      "source": [
        "num_classes = 10\n",
        "model= Sequential([\n",
        "    layers.Conv2D(32,(3,3),activation=\"relu\",input_shape=(28,28,1)),\n",
        "    layers.MaxPooling2D(2,2),\n",
        "    layers.Conv2D(32,(3,3),padding=\"same\",activation=\"relu\"),\n",
        "    layers.MaxPooling2D(2,2),\n",
        "    layers.Dropout(0.2),\n",
        "    layers.Flatten(),\n",
        "    layers.Dense(128,activation=\"relu\"),\n",
        "    layers.Dense(num_classes,activation = \"sigmoid\")\n",
        "    ])\n",
        "model.compile(optimizer=\"adam\",\n",
        "              loss=tf.keras.losses.SparseCategoricalCrossentropy(from_logits=True),\n",
        "              metrics=[\"accuracy\"])\n",
        "model.fit(x_train_scaled,y_train,epochs=10,validation_data=(x_test_scaled,y_test))\n"
      ]
    },
    {
      "cell_type": "code",
      "source": [
        "model.evaluate(x_test_scaled,y_test)"
      ],
      "metadata": {
        "colab": {
          "base_uri": "https://localhost:8080/"
        },
        "id": "x8j9bmEjtp2P",
        "outputId": "9e030723-6c12-4889-8dcd-eeee8ed7615a"
      },
      "execution_count": null,
      "outputs": [
        {
          "output_type": "stream",
          "name": "stdout",
          "text": [
            "313/313 [==============================] - 1s 2ms/step - loss: 0.2382 - accuracy: 0.9214\n"
          ]
        },
        {
          "output_type": "execute_result",
          "data": {
            "text/plain": [
              "[0.23822949826717377, 0.9214000105857849]"
            ]
          },
          "metadata": {},
          "execution_count": 19
        }
      ]
    },
    {
      "cell_type": "markdown",
      "source": [
        "### creating model with data_augmentation"
      ],
      "metadata": {
        "id": "JRQUPO2LhiJ-"
      }
    },
    {
      "cell_type": "code",
      "execution_count": null,
      "metadata": {
        "id": "kNElX_cjrOkb"
      },
      "outputs": [],
      "source": [
        "img_height=img_width=28\n",
        "data_augmentation = keras.Sequential([\n",
        "    layers.experimental.preprocessing.RandomFlip(\"horizontal\",input_shape=(img_height,img_width,1)),\n",
        "    layers.experimental.preprocessing.RandomRotation(0.1),\n",
        "    layers.experimental.preprocessing.RandomZoom(0,1),\n",
        "    ])"
      ]
    },
    {
      "cell_type": "code",
      "source": [
        "num_classes = 10\n",
        "\n",
        "model1 = Sequential([\n",
        "  data_augmentation,\n",
        "  layers.Conv2D(16, (3,3), padding='same', activation='relu'),\n",
        "  layers.MaxPooling2D(2,2),\n",
        "  layers.Conv2D(32, (3,3), padding='same', activation='relu'),\n",
        "  layers.MaxPooling2D(2,2),\n",
        "  layers.Conv2D(64, (3,3), padding='same', activation='relu'),\n",
        "  layers.MaxPooling2D(2,2),\n",
        "  layers.Dropout(0.2),\n",
        "  layers.Flatten(),\n",
        "  layers.Dense(128, activation='relu'),\n",
        "  layers.Dense(num_classes,activation=\"softmax\")\n",
        "])\n",
        "\n",
        "model1.compile(optimizer='adam',\n",
        "              loss=tf.keras.losses.SparseCategoricalCrossentropy(from_logits=True),\n",
        "              metrics=['accuracy'])\n",
        "              \n",
        "model1.fit(x_train_scaled, y_train, epochs=10,validation_data=(x_test_scaled,y_test))    "
      ],
      "metadata": {
        "colab": {
          "base_uri": "https://localhost:8080/"
        },
        "id": "5IvH_R2EyYVD",
        "outputId": "af70a34b-a7c1-44de-f920-6c666e63e6d1"
      },
      "execution_count": null,
      "outputs": [
        {
          "output_type": "stream",
          "name": "stdout",
          "text": [
            "Epoch 1/10\n",
            "1875/1875 [==============================] - 41s 21ms/step - loss: 0.9409 - accuracy: 0.6541 - val_loss: 0.6244 - val_accuracy: 0.7713\n",
            "Epoch 2/10\n",
            "1875/1875 [==============================] - 36s 19ms/step - loss: 0.7188 - accuracy: 0.7363 - val_loss: 0.5924 - val_accuracy: 0.7805\n",
            "Epoch 3/10\n",
            "1875/1875 [==============================] - 37s 20ms/step - loss: 0.6508 - accuracy: 0.7612 - val_loss: 0.5910 - val_accuracy: 0.7832\n",
            "Epoch 4/10\n",
            "1875/1875 [==============================] - 36s 19ms/step - loss: 0.6124 - accuracy: 0.7750 - val_loss: 0.4833 - val_accuracy: 0.8243\n",
            "Epoch 5/10\n",
            "1875/1875 [==============================] - 37s 20ms/step - loss: 0.5824 - accuracy: 0.7850 - val_loss: 0.5380 - val_accuracy: 0.8019\n",
            "Epoch 6/10\n",
            "1875/1875 [==============================] - 37s 19ms/step - loss: 0.5601 - accuracy: 0.7943 - val_loss: 0.4588 - val_accuracy: 0.8336\n",
            "Epoch 7/10\n",
            "1875/1875 [==============================] - 36s 19ms/step - loss: 0.5493 - accuracy: 0.7979 - val_loss: 0.4356 - val_accuracy: 0.8436\n",
            "Epoch 8/10\n",
            "1875/1875 [==============================] - 39s 21ms/step - loss: 0.5354 - accuracy: 0.8035 - val_loss: 0.4663 - val_accuracy: 0.8323\n",
            "Epoch 9/10\n",
            "1875/1875 [==============================] - 36s 19ms/step - loss: 0.5212 - accuracy: 0.8066 - val_loss: 0.4601 - val_accuracy: 0.8321\n",
            "Epoch 10/10\n",
            "1875/1875 [==============================] - 36s 19ms/step - loss: 0.5113 - accuracy: 0.8112 - val_loss: 0.5098 - val_accuracy: 0.8117\n"
          ]
        },
        {
          "output_type": "execute_result",
          "data": {
            "text/plain": [
              "<keras.callbacks.History at 0x7f0af64b65e0>"
            ]
          },
          "metadata": {},
          "execution_count": 21
        }
      ]
    },
    {
      "cell_type": "code",
      "source": [
        "model1.evaluate(x_test_scaled,y_test)"
      ],
      "metadata": {
        "id": "BrfgGFgE6DW-",
        "colab": {
          "base_uri": "https://localhost:8080/"
        },
        "outputId": "588c4fa1-c9aa-429d-a016-1db9dfc5f211"
      },
      "execution_count": null,
      "outputs": [
        {
          "output_type": "stream",
          "name": "stdout",
          "text": [
            "313/313 [==============================] - 1s 3ms/step - loss: 0.5098 - accuracy: 0.8117\n"
          ]
        },
        {
          "output_type": "execute_result",
          "data": {
            "text/plain": [
              "[0.5098291635513306, 0.8116999864578247]"
            ]
          },
          "metadata": {},
          "execution_count": 22
        }
      ]
    },
    {
      "cell_type": "code",
      "source": [
        "### we can clearly see that by using data augmentation our accuracy decreased to 81.17%"
      ],
      "metadata": {
        "id": "TL65nxxwUsa4"
      },
      "execution_count": null,
      "outputs": []
    },
    {
      "cell_type": "markdown",
      "source": [
        "### creating model using hyperparamer tuning and with data_augmentation"
      ],
      "metadata": {
        "id": "XVrgu8YVhdDQ"
      }
    },
    {
      "cell_type": "code",
      "execution_count": null,
      "metadata": {
        "id": "gOsa7zJqrOke"
      },
      "outputs": [],
      "source": [
        "import keras_tuner as kt"
      ]
    },
    {
      "cell_type": "code",
      "source": [
        "def build_model(hp):\n",
        "  model = Sequential([\n",
        "  data_augmentation,\n",
        "  layers.Conv2D(16, (3,3), padding='same', activation='relu'),\n",
        "  layers.MaxPooling2D(2,2),\n",
        "  layers.Conv2D(32, (3,3), padding='same', activation='relu'),\n",
        "  layers.MaxPooling2D(2,2),\n",
        "  layers.Conv2D(64, (3,3), padding='same', activation='relu'),\n",
        "  layers.MaxPooling2D(2,2),\n",
        "  layers.Dropout(0.2),\n",
        "  ])\n",
        "  counter=0\n",
        "  for i in range(hp.Int(\"num_layers\",min_value=1,max_value=10)):\n",
        "    if counter==0:\n",
        "      model.add(Dense(units=hp.Int(\"units\"+str(i),min_value=8,max_value=128,step=8),activation=hp.Choice('Activation'+str(i),values=['relu','tanh','sigmoid'])))\n",
        "      model.add(Dropout(hp.Choice(\"dropout\"+str(i),values=[0.1,0.2,0.3,0.4,0.5,0.6,0.7,0.8,0.9]))) \n",
        "    else:\n",
        "      model.add(Dense(units=hp.Int(\"units\"+str(i),min_value=8,max_value=128,step=8),activation=hp.Choice('Activation'+str(i),values=['relu','tanh','sigmoid'])))\n",
        "      model.add(Dropout(hp.Choice(\"dropout\"+str(i),values=[0.1,0.2,0.3,0.4,0.5,0.6,0.7,0.8,0.9])))\n",
        "    counter+=1\n",
        "  model.add(Flatten())\n",
        "  model.add(Dense(10,activation='sigmoid'))\n",
        "  optimizer=hp.Choice(\"optimizer\",values=['adam','rmsprop','adadelta','sgd','nadam'])\n",
        "  model.compile(optimizer=optimizer,loss=\"sparse_categorical_crossentropy\",metrics=['accuracy'])\n",
        "  return model\n"
      ],
      "metadata": {
        "id": "wYOqBjgPuoIZ"
      },
      "execution_count": null,
      "outputs": []
    },
    {
      "cell_type": "code",
      "execution_count": null,
      "metadata": {
        "id": "PoDOmo9NrOkf",
        "scrolled": true
      },
      "outputs": [],
      "source": [
        "tuner=kt.RandomSearch(build_model,objective=\"val_accuracy\",max_trials=5,directory=\"tuning\",project_name=\"Version1\")"
      ]
    },
    {
      "cell_type": "code",
      "source": [
        "tuner.search(x_train_scaled,y_train,epochs=5, validation_data=(x_test_scaled,y_test))"
      ],
      "metadata": {
        "colab": {
          "base_uri": "https://localhost:8080/"
        },
        "id": "dcb8HQ1g5X9H",
        "outputId": "d5d35966-31a0-4d82-a46b-2f1a357b451f"
      },
      "execution_count": null,
      "outputs": [
        {
          "output_type": "stream",
          "name": "stdout",
          "text": [
            "Trial 5 Complete [00h 03m 54s]\n",
            "val_accuracy: 0.10000000149011612\n",
            "\n",
            "Best val_accuracy So Far: 0.7552000284194946\n",
            "Total elapsed time: 00h 18m 42s\n"
          ]
        }
      ]
    },
    {
      "cell_type": "code",
      "execution_count": null,
      "metadata": {
        "colab": {
          "base_uri": "https://localhost:8080/"
        },
        "id": "VcdQE6BPrOki",
        "outputId": "01bee2d8-7acb-44fe-bc3a-35924c1a4a68"
      },
      "outputs": [
        {
          "output_type": "execute_result",
          "data": {
            "text/plain": [
              "{'num_layers': 2,\n",
              " 'units0': 48,\n",
              " 'Activation0': 'tanh',\n",
              " 'dropout0': 0.6,\n",
              " 'optimizer': 'nadam',\n",
              " 'units1': 120,\n",
              " 'Activation1': 'sigmoid',\n",
              " 'dropout1': 0.4,\n",
              " 'units2': 40,\n",
              " 'Activation2': 'relu',\n",
              " 'dropout2': 0.8,\n",
              " 'units3': 112,\n",
              " 'Activation3': 'relu',\n",
              " 'dropout3': 0.1,\n",
              " 'units4': 32,\n",
              " 'Activation4': 'tanh',\n",
              " 'dropout4': 0.5,\n",
              " 'units5': 96,\n",
              " 'Activation5': 'relu',\n",
              " 'dropout5': 0.8,\n",
              " 'units6': 104,\n",
              " 'Activation6': 'sigmoid',\n",
              " 'dropout6': 0.2,\n",
              " 'units7': 48,\n",
              " 'Activation7': 'relu',\n",
              " 'dropout7': 0.8,\n",
              " 'units8': 8,\n",
              " 'Activation8': 'tanh',\n",
              " 'dropout8': 0.4,\n",
              " 'units9': 96,\n",
              " 'Activation9': 'tanh',\n",
              " 'dropout9': 0.9}"
            ]
          },
          "metadata": {},
          "execution_count": 28
        }
      ],
      "source": [
        "tuner.get_best_hyperparameters()[0].values"
      ]
    },
    {
      "cell_type": "code",
      "source": [
        "model2=tuner.get_best_models(num_models=1)[0]"
      ],
      "metadata": {
        "id": "fbJRqhiwtJ9H"
      },
      "execution_count": null,
      "outputs": []
    },
    {
      "cell_type": "code",
      "source": [
        "model2.summary()"
      ],
      "metadata": {
        "colab": {
          "base_uri": "https://localhost:8080/"
        },
        "id": "HZvuEPvOtk-L",
        "outputId": "502dd359-83f5-4d99-e30f-3daefe59ad9d"
      },
      "execution_count": null,
      "outputs": [
        {
          "output_type": "stream",
          "name": "stdout",
          "text": [
            "Model: \"sequential\"\n",
            "_________________________________________________________________\n",
            " Layer (type)                Output Shape              Param #   \n",
            "=================================================================\n",
            " sequential_1 (Sequential)   (None, 28, 28, 1)         0         \n",
            "                                                                 \n",
            " conv2d (Conv2D)             (None, 28, 28, 16)        160       \n",
            "                                                                 \n",
            " max_pooling2d (MaxPooling2D  (None, 14, 14, 16)       0         \n",
            " )                                                               \n",
            "                                                                 \n",
            " conv2d_1 (Conv2D)           (None, 14, 14, 32)        4640      \n",
            "                                                                 \n",
            " max_pooling2d_1 (MaxPooling  (None, 7, 7, 32)         0         \n",
            " 2D)                                                             \n",
            "                                                                 \n",
            " conv2d_2 (Conv2D)           (None, 7, 7, 64)          18496     \n",
            "                                                                 \n",
            " max_pooling2d_2 (MaxPooling  (None, 3, 3, 64)         0         \n",
            " 2D)                                                             \n",
            "                                                                 \n",
            " dropout (Dropout)           (None, 3, 3, 64)          0         \n",
            "                                                                 \n",
            " dense (Dense)               (None, 3, 3, 48)          3120      \n",
            "                                                                 \n",
            " dropout_1 (Dropout)         (None, 3, 3, 48)          0         \n",
            "                                                                 \n",
            " dense_1 (Dense)             (None, 3, 3, 120)         5880      \n",
            "                                                                 \n",
            " dropout_2 (Dropout)         (None, 3, 3, 120)         0         \n",
            "                                                                 \n",
            " flatten (Flatten)           (None, 1080)              0         \n",
            "                                                                 \n",
            " dense_2 (Dense)             (None, 10)                10810     \n",
            "                                                                 \n",
            "=================================================================\n",
            "Total params: 43,106\n",
            "Trainable params: 43,106\n",
            "Non-trainable params: 0\n",
            "_________________________________________________________________\n"
          ]
        }
      ]
    },
    {
      "cell_type": "code",
      "source": [
        "model2.fit(x_train_scaled,y_train,epochs=6,initial_epoch=5,validation_data=(x_test_scaled,y_test))"
      ],
      "metadata": {
        "colab": {
          "base_uri": "https://localhost:8080/"
        },
        "id": "E7TiCmpLtTZw",
        "outputId": "95c3b055-849f-4e76-f739-1d8d8144d459"
      },
      "execution_count": null,
      "outputs": [
        {
          "output_type": "stream",
          "name": "stdout",
          "text": [
            "Epoch 6/6\n",
            "1875/1875 [==============================] - 42s 22ms/step - loss: 0.7522 - accuracy: 0.7277 - val_loss: 0.6286 - val_accuracy: 0.7771\n"
          ]
        },
        {
          "output_type": "execute_result",
          "data": {
            "text/plain": [
              "<keras.callbacks.History at 0x7f0af6c5a430>"
            ]
          },
          "metadata": {},
          "execution_count": 32
        }
      ]
    },
    {
      "cell_type": "markdown",
      "source": [
        "### creating model with hyperparameter tuning without data_augmentation"
      ],
      "metadata": {
        "id": "lnz56et4rOkm"
      }
    },
    {
      "cell_type": "code",
      "execution_count": null,
      "metadata": {
        "id": "DpBFwdzKrOkn"
      },
      "outputs": [],
      "source": [
        "def build_model(hp):\n",
        "  model = Sequential([\n",
        "  layers.Conv2D(16, (3,3), padding='same', activation='relu',input_shape=(28,28,1)),\n",
        "  layers.MaxPooling2D(2,2),\n",
        "  layers.Conv2D(32, (3,3), padding='same', activation='relu'),\n",
        "  layers.MaxPooling2D(2,2),\n",
        "  layers.Conv2D(64, (3,3), padding='same', activation='relu'),\n",
        "  layers.MaxPooling2D(2,2),\n",
        "  layers.Dropout(0.2),\n",
        "  ])\n",
        "  counter=0\n",
        "  for i in range(hp.Int(\"num_layers\",min_value=1,max_value=10)):\n",
        "    if counter==0:\n",
        "      model.add(Dense(units=hp.Int(\"units\"+str(i),min_value=8,max_value=128,step=8),activation=hp.Choice('Activation'+str(i),values=['relu','tanh','sigmoid']),input_shape=(28,28,1)))\n",
        "      model.add(Dropout(hp.Choice(\"dropout\"+str(i),values=[0.1,0.2,0.3,0.4,0.5,0.6,0.7,0.8,0.9]))) \n",
        "    else:\n",
        "      model.add(Dense(units=hp.Int(\"units\"+str(i),min_value=8,max_value=128,step=8),activation=hp.Choice('Activation'+str(i),values=['relu','tanh','sigmoid'])))\n",
        "      model.add(Dropout(hp.Choice(\"dropout\"+str(i),values=[0.1,0.2,0.3,0.4,0.5,0.6,0.7,0.8,0.9])))\n",
        "    counter+=1\n",
        "  model.add(Flatten())\n",
        "  model.add(Dense(10,activation='sigmoid'))\n",
        "  optimizer=hp.Choice(\"optimizer\",values=['adam','rmsprop','adadelta','sgd','nadam'])\n",
        "  model.compile(optimizer=optimizer,loss=\"sparse_categorical_crossentropy\",metrics=['accuracy'])\n",
        "  return model\n"
      ]
    },
    {
      "cell_type": "code",
      "execution_count": null,
      "metadata": {
        "id": "i4AXUIo2rOkn"
      },
      "outputs": [],
      "source": [
        "tuner=kt.RandomSearch(build_model,objective=\"val_accuracy\",max_trials=2,directory=\"tuning\",project_name=\"Version3\")"
      ]
    },
    {
      "cell_type": "code",
      "execution_count": null,
      "metadata": {
        "id": "1Gl0Ep2vrOkn",
        "colab": {
          "base_uri": "https://localhost:8080/"
        },
        "outputId": "ba95ce76-8898-4b0e-8b49-6c3bc0f1af8c"
      },
      "outputs": [
        {
          "output_type": "stream",
          "name": "stdout",
          "text": [
            "Trial 2 Complete [00h 00m 42s]\n",
            "val_accuracy: 0.11379999667406082\n",
            "\n",
            "Best val_accuracy So Far: 0.11379999667406082\n",
            "Total elapsed time: 00h 01m 24s\n"
          ]
        }
      ],
      "source": [
        "tuner.search(x_train_scaled,y_train,epochs=3, validation_data=(x_test_scaled,y_test))"
      ]
    },
    {
      "cell_type": "code",
      "execution_count": null,
      "metadata": {
        "id": "W21KbADhrOkp",
        "colab": {
          "base_uri": "https://localhost:8080/"
        },
        "outputId": "8fe3dccc-a9ac-447d-c799-992b41651e22"
      },
      "outputs": [
        {
          "output_type": "execute_result",
          "data": {
            "text/plain": [
              "{'num_layers': 3,\n",
              " 'units0': 24,\n",
              " 'Activation0': 'tanh',\n",
              " 'dropout0': 0.9,\n",
              " 'optimizer': 'rmsprop',\n",
              " 'units1': 120,\n",
              " 'Activation1': 'relu',\n",
              " 'dropout1': 0.2,\n",
              " 'units2': 128,\n",
              " 'Activation2': 'tanh',\n",
              " 'dropout2': 0.2,\n",
              " 'units3': 32,\n",
              " 'Activation3': 'sigmoid',\n",
              " 'dropout3': 0.1}"
            ]
          },
          "metadata": {},
          "execution_count": 55
        }
      ],
      "source": [
        "tuner.get_best_hyperparameters()[0].values"
      ]
    },
    {
      "cell_type": "code",
      "execution_count": null,
      "metadata": {
        "id": "0GuujzTFrOkp"
      },
      "outputs": [],
      "source": [
        "model3=tuner.get_best_models(num_models=1)[0]"
      ]
    },
    {
      "cell_type": "code",
      "execution_count": null,
      "metadata": {
        "id": "7_TDrjP8rOkq",
        "colab": {
          "base_uri": "https://localhost:8080/"
        },
        "outputId": "dc84de31-bffb-4228-f177-2c437d0486c2"
      },
      "outputs": [
        {
          "output_type": "stream",
          "name": "stdout",
          "text": [
            "Model: \"sequential\"\n",
            "_________________________________________________________________\n",
            " Layer (type)                Output Shape              Param #   \n",
            "=================================================================\n",
            " conv2d (Conv2D)             (None, 28, 28, 16)        160       \n",
            "                                                                 \n",
            " max_pooling2d (MaxPooling2D  (None, 14, 14, 16)       0         \n",
            " )                                                               \n",
            "                                                                 \n",
            " conv2d_1 (Conv2D)           (None, 14, 14, 32)        4640      \n",
            "                                                                 \n",
            " max_pooling2d_1 (MaxPooling  (None, 7, 7, 32)         0         \n",
            " 2D)                                                             \n",
            "                                                                 \n",
            " conv2d_2 (Conv2D)           (None, 7, 7, 64)          18496     \n",
            "                                                                 \n",
            " max_pooling2d_2 (MaxPooling  (None, 3, 3, 64)         0         \n",
            " 2D)                                                             \n",
            "                                                                 \n",
            " dropout (Dropout)           (None, 3, 3, 64)          0         \n",
            "                                                                 \n",
            " dense (Dense)               (None, 3, 3, 24)          1560      \n",
            "                                                                 \n",
            " dropout_1 (Dropout)         (None, 3, 3, 24)          0         \n",
            "                                                                 \n",
            " dense_1 (Dense)             (None, 3, 3, 120)         3000      \n",
            "                                                                 \n",
            " dropout_2 (Dropout)         (None, 3, 3, 120)         0         \n",
            "                                                                 \n",
            " dense_2 (Dense)             (None, 3, 3, 128)         15488     \n",
            "                                                                 \n",
            " dropout_3 (Dropout)         (None, 3, 3, 128)         0         \n",
            "                                                                 \n",
            " flatten (Flatten)           (None, 1152)              0         \n",
            "                                                                 \n",
            " dense_3 (Dense)             (None, 10)                11530     \n",
            "                                                                 \n",
            "=================================================================\n",
            "Total params: 54,874\n",
            "Trainable params: 54,874\n",
            "Non-trainable params: 0\n",
            "_________________________________________________________________\n"
          ]
        }
      ],
      "source": [
        "model3.summary()"
      ]
    },
    {
      "cell_type": "code",
      "execution_count": null,
      "metadata": {
        "id": "e5GmmiHRrOkr",
        "colab": {
          "base_uri": "https://localhost:8080/"
        },
        "outputId": "aee55c7b-0809-44f4-a19e-c68e3d7556b0"
      },
      "outputs": [
        {
          "output_type": "stream",
          "name": "stdout",
          "text": [
            "Epoch 4/5\n",
            "1875/1875 [==============================] - 11s 5ms/step - loss: 0.5978 - accuracy: 0.7812 - val_loss: 3.9563 - val_accuracy: 0.1000\n",
            "Epoch 5/5\n",
            "1875/1875 [==============================] - 9s 5ms/step - loss: 0.5212 - accuracy: 0.8115 - val_loss: 4.0396 - val_accuracy: 0.1000\n"
          ]
        },
        {
          "output_type": "execute_result",
          "data": {
            "text/plain": [
              "<keras.callbacks.History at 0x7f0ae4dee100>"
            ]
          },
          "metadata": {},
          "execution_count": 58
        }
      ],
      "source": [
        "model3.fit(x_train_scaled,y_train,epochs=5,initial_epoch=3,validation_data=(x_test_scaled,y_test))"
      ]
    },
    {
      "cell_type": "code",
      "execution_count": null,
      "metadata": {
        "id": "qCldnhBXrOks",
        "colab": {
          "base_uri": "https://localhost:8080/"
        },
        "outputId": "03e0fc90-3b63-44bd-8b6a-b1a1a68274bc"
      },
      "outputs": [
        {
          "output_type": "stream",
          "name": "stdout",
          "text": [
            "313/313 [==============================] - 1s 4ms/step - loss: 0.2382 - accuracy: 0.9214\n"
          ]
        },
        {
          "output_type": "execute_result",
          "data": {
            "text/plain": [
              "[0.23822949826717377, 0.9214000105857849]"
            ]
          },
          "metadata": {},
          "execution_count": 64
        }
      ],
      "source": [
        "model.evaluate(x_test_scaled,y_test)"
      ]
    },
    {
      "cell_type": "code",
      "execution_count": null,
      "metadata": {
        "id": "V5nf31OdrOks",
        "colab": {
          "base_uri": "https://localhost:8080/"
        },
        "outputId": "2e432050-88d9-4e12-b494-80bc30c56dbd"
      },
      "outputs": [
        {
          "output_type": "stream",
          "name": "stdout",
          "text": [
            "313/313 [==============================] - 1s 2ms/step\n"
          ]
        }
      ],
      "source": [
        "y_pred_test=model.predict(x_test)"
      ]
    },
    {
      "cell_type": "code",
      "execution_count": null,
      "metadata": {
        "id": "3o3MhDlBrOkt"
      },
      "outputs": [],
      "source": [
        "from sklearn.metrics import classification_report, confusion_matrix"
      ]
    },
    {
      "cell_type": "code",
      "source": [
        "y_pred_test=[np.argmax(y_pred_test[i]) for i in range(len(y_pred_test))]\n",
        "y_pred_test = np.array(y_pred_test)"
      ],
      "metadata": {
        "id": "H4YUPGTkpypq"
      },
      "execution_count": null,
      "outputs": []
    },
    {
      "cell_type": "code",
      "execution_count": null,
      "metadata": {
        "id": "6S_6mV2lrOkv",
        "colab": {
          "base_uri": "https://localhost:8080/"
        },
        "outputId": "987cd9e9-6e11-422e-843b-6f4998dd9463"
      },
      "outputs": [
        {
          "output_type": "stream",
          "name": "stdout",
          "text": [
            "              precision    recall  f1-score   support\n",
            "\n",
            "           0       0.51      0.96      0.67      1000\n",
            "           1       0.92      0.95      0.93      1000\n",
            "           2       0.53      0.72      0.61      1000\n",
            "           3       0.85      0.69      0.76      1000\n",
            "           4       0.47      0.47      0.47      1000\n",
            "           5       0.48      0.98      0.64      1000\n",
            "           6       0.40      0.05      0.09      1000\n",
            "           7       0.46      0.24      0.32      1000\n",
            "           8       0.97      0.77      0.86      1000\n",
            "           9       0.99      0.38      0.55      1000\n",
            "\n",
            "    accuracy                           0.62     10000\n",
            "   macro avg       0.66      0.62      0.59     10000\n",
            "weighted avg       0.66      0.62      0.59     10000\n",
            "\n"
          ]
        }
      ],
      "source": [
        "print(classification_report(y_test,y_pred_test))"
      ]
    },
    {
      "cell_type": "code",
      "execution_count": null,
      "metadata": {
        "id": "5KD7tK99rOkv",
        "colab": {
          "base_uri": "https://localhost:8080/",
          "height": 592
        },
        "outputId": "64b4b3fa-d9cf-4a59-a41b-b2d5a37329fc"
      },
      "outputs": [
        {
          "output_type": "display_data",
          "data": {
            "text/plain": [
              "<Figure size 1440x720 with 2 Axes>"
            ],
            "image/png": "[encoded data removed]"
          },
          "metadata": {
            "needs_background": "light"
          }
        }
      ],
      "source": [
        "cm = confusion_matrix(y_test, y_pred_test)\n",
        "conf_matrix = pd.DataFrame(data=cm,columns=classes,index=[i for i in range(len(classes))])\n",
        "plt.figure(figsize = (20,10))\n",
        "sns.heatmap(conf_matrix, annot=True,fmt='d',cmap=\"YlGnBu\")\n",
        "plt.show()"
      ]
    }
  ],
  "metadata": {
    "accelerator": "GPU",
    "colab": {
      "provenance": []
    },
    "gpuClass": "standard",
    "kernelspec": {
      "display_name": "Python 3 (ipykernel)",
      "language": "python",
      "name": "python3"
    },
    "language_info": {
      "codemirror_mode": {
        "name": "ipython",
        "version": 3
      },
      "file_extension": ".py",
      "mimetype": "text/x-python",
      "name": "python",
      "nbconvert_exporter": "python",
      "pygments_lexer": "ipython3",
      "version": "3.8.8"
    }
  },
  "nbformat": 4,
  "nbformat_minor": 0
}